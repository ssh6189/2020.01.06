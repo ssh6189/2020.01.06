{
 "cells": [
  {
   "cell_type": "code",
   "execution_count": 1,
   "metadata": {},
   "outputs": [],
   "source": [
    "import numpy as np\n",
    "import matplotlib.pyplot as plt\n",
    "from PIL import Image\n",
    "%matplotlib inline"
   ]
  },
  {
   "cell_type": "code",
   "execution_count": 2,
   "metadata": {},
   "outputs": [
    {
     "data": {
      "text/plain": [
       "<matplotlib.image.AxesImage at 0x21269a77d48>"
      ]
     },
     "execution_count": 2,
     "metadata": {},
     "output_type": "execute_result"
    },
    {
     "data": {
      "image/png": "[encoded data removed]",
      "text/plain": [
       "<Figure size 432x288 with 1 Axes>"
      ]
     },
     "metadata": {
      "needs_background": "light"
     },
     "output_type": "display_data"
    }
   ],
   "source": [
    "a = np.asarray([\n",
    "    [0, 0, 0, 0],\n",
    "    [127, 127, 127, 127],\n",
    "    [200, 200, 200, 200],\n",
    "    [255, 255, 255, 255]\n",
    "], dtype = 'uint8')\n",
    "\n",
    "plt.imshow(a, cmap = 'gray')"
   ]
  },
  {
   "cell_type": "code",
   "execution_count": 3,
   "metadata": {},
   "outputs": [
    {
     "name": "stdout",
     "output_type": "stream",
     "text": [
      "[[  5   5   5   5]\n",
      " [132 132 132 132]\n",
      " [205 205 205 205]\n",
      " [  4   4   4   4]]\n"
     ]
    },
    {
     "data": {
      "image/png": "[encoded data removed]",
      "text/plain": [
       "<Figure size 432x288 with 1 Axes>"
      ]
     },
     "metadata": {
      "needs_background": "light"
     },
     "output_type": "display_data"
    }
   ],
   "source": [
    "b = a + 5 #기본 파이썬 리스트는 이런 연산이 불가능하다.\n",
    "\n",
    "plt.imshow(b, cmap = 'gray')\n",
    "\n",
    "print(b)"
   ]
  },
  {
   "cell_type": "code",
   "execution_count": 17,
   "metadata": {},
   "outputs": [
    {
     "name": "stdout",
     "output_type": "stream",
     "text": [
      "(4, 4, 3)\n"
     ]
    },
    {
     "data": {
      "image/png": "[encoded data removed]",
      "text/plain": [
       "<Figure size 432x288 with 1 Axes>"
      ]
     },
     "metadata": {
      "needs_background": "light"
     },
     "output_type": "display_data"
    },
    {
     "name": "stdout",
     "output_type": "stream",
     "text": [
      "(4, 4, 3)\n"
     ]
    },
    {
     "data": {
      "image/png": "[encoded data removed]",
      "text/plain": [
       "<Figure size 432x288 with 1 Axes>"
      ]
     },
     "metadata": {
      "needs_background": "light"
     },
     "output_type": "display_data"
    },
    {
     "data": {
      "text/plain": [
       "<matplotlib.image.AxesImage at 0x2126d4e8688>"
      ]
     },
     "execution_count": 17,
     "metadata": {},
     "output_type": "execute_result"
    },
    {
     "data": {
      "image/png": "[encoded data removed]",
      "text/plain": [
       "<Figure size 432x288 with 1 Axes>"
      ]
     },
     "metadata": {
      "needs_background": "light"
     },
     "output_type": "display_data"
    }
   ],
   "source": [
    "r = np.array([\n",
    "        [255, 255, 255, 255],\n",
    "        [0, 0, 0, 0],\n",
    "        [0, 0, 0, 0], \n",
    "        [255, 255, 255, 255]\n",
    "        ], dtype = 'uint8')\n",
    "\n",
    "g = np.array([\n",
    "        [0, 0, 0, 0],\n",
    "        [255, 255, 255, 255],\n",
    "        [0, 0, 0, 0], \n",
    "        [255, 255, 255, 255]\n",
    "        ], dtype = 'uint8')\n",
    "\n",
    "b = np.array([\n",
    "        [0, 0, 0, 0],\n",
    "        [0, 0, 0, 0],\n",
    "        [255, 255, 255, 255], \n",
    "        [0, 0, 0, 0]\n",
    "        ], dtype = 'uint8')\n",
    "\n",
    "colors = np.dstack([r, g, b]) #r,g,b를 겹겹이 붙이는것,vstack은 수직, h수직은 수평으로 붙인다. 두개만 섞고 싶어도, 세개를 반드시 명시를\n",
    "#해주어야한다. 모든 칼라이미지는 반드시, 3채널로 만들어야 한다.\n",
    "\n",
    "print(colors.shape)\n",
    "\n",
    "plt.imshow(colors)\n",
    "plt.show() #다 보고 싶으면 중간중간에 show를 써줘라\n",
    "print(colors.shape)\n",
    "plt.imshow(r) #빨간색이 아닌, 사실은 회색이다. 그냥, 앞에는 각 정도에 대한, 수치일 뿐이다.\n",
    "plt.show()\n",
    "plt.imshow(r, cmap = 'gray')"
   ]
  }
 ],
 "metadata": {
  "kernelspec": {
   "display_name": "Python 3",
   "language": "python",
   "name": "python3"
  },
  "language_info": {
   "codemirror_mode": {
    "name": "ipython",
    "version": 3
   },
   "file_extension": ".py",
   "mimetype": "text/x-python",
   "name": "python",
   "nbconvert_exporter": "python",
   "pygments_lexer": "ipython3",
   "version": "3.7.5"
  }
 },
 "nbformat": 4,
 "nbformat_minor": 2
}
